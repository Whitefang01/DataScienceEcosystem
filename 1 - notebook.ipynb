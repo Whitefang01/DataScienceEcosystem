{
 "cells": [
  {
   "cell_type": "markdown",
   "id": "95f62505-c2fe-40ef-b532-0feb8e4d2085",
   "metadata": {},
   "source": [
    "# Data Science Tools and Ecosystem"
   ]
  },
  {
   "cell_type": "markdown",
   "id": "a073a8f2-cfb6-43d7-bf66-8b3a299541f9",
   "metadata": {},
   "source": [
    "In this notebook, Data Science Tools and Ecosystem are summarized.\n",
    "\n",
    "#### Objectives:\n",
    "* How to make a header\n",
    "* How to make ordered list\n",
    "* How to make tables\n",
    "* How to evaluate simple arithmetic expression\n",
    "* How to make a title\n",
    "\n",
    "\n"
   ]
  },
  {
   "cell_type": "markdown",
   "id": "e3ca3f59-25a7-4a08-9219-3a99f414ff90",
   "metadata": {},
   "source": [
    "Some of the popular languages that Data Scientists use are:\n",
    "\n",
    "    1. Python\n",
    "    2. R\n",
    "    3. Java\n",
    "    4. SQL\n",
    "    5. Julia\n"
   ]
  },
  {
   "cell_type": "markdown",
   "id": "dd642e27-db74-48a2-bab5-a6f9a3b524ed",
   "metadata": {
    "tags": []
   },
   "source": [
    "Some of the commonly used libraries used by Data Scientists include:\n",
    "    \n",
    "    1. TensorFlow\n",
    "    2. SciPy\n",
    "    3. NumPy"
   ]
  },
  {
   "cell_type": "markdown",
   "id": "29ece8f0-31a7-484b-86ee-25d986662f4e",
   "metadata": {
    "tags": []
   },
   "source": [
    "|Data Science Tools|\n",
    "|------------------|\n",
    "|RStudio|\n",
    "|Jupyter Notebook|\n",
    "|Apache Hadoop|"
   ]
  },
  {
   "cell_type": "markdown",
   "id": "c9a09c9a-7a16-4598-a62f-6c7a966f05d0",
   "metadata": {},
   "source": [
    "### Below are a few examples of evaluating arithmetic expressions in Python\n"
   ]
  },
  {
   "cell_type": "code",
   "execution_count": 10,
   "id": "9de2619c-8cd2-4bd6-b481-effa2c42c052",
   "metadata": {
    "tags": []
   },
   "outputs": [
    {
     "data": {
      "text/plain": [
       "17"
      ]
     },
     "execution_count": 10,
     "metadata": {},
     "output_type": "execute_result"
    }
   ],
   "source": [
    "# This a simple arithmetic expression to mutiply then add integers\n",
    "(3*4)+5\n"
   ]
  },
  {
   "cell_type": "code",
   "execution_count": 12,
   "id": "3cd4814b-0e1e-46b3-ae06-9b533159fbba",
   "metadata": {
    "tags": []
   },
   "outputs": [
    {
     "data": {
      "text/plain": [
       "3.3333333333333335"
      ]
     },
     "execution_count": 12,
     "metadata": {},
     "output_type": "execute_result"
    }
   ],
   "source": [
    "# This will convert 200 minutes to hours by diving by 60\n",
    "200/60"
   ]
  },
  {
   "cell_type": "markdown",
   "id": "dfadba84-67b8-464f-a1c1-9d0b312530d6",
   "metadata": {},
   "source": [
    "## Author\n",
    "Roentgen Del Mundo\n"
   ]
  },
  {
   "cell_type": "code",
   "execution_count": null,
   "id": "750a5ad0-dac3-4d39-9f4d-0e738149c83b",
   "metadata": {},
   "outputs": [],
   "source": []
  }
 ],
 "metadata": {
  "kernelspec": {
   "display_name": "Python",
   "language": "python",
   "name": "conda-env-python-py"
  },
  "language_info": {
   "codemirror_mode": {
    "name": "ipython",
    "version": 3
   },
   "file_extension": ".py",
   "mimetype": "text/x-python",
   "name": "python",
   "nbconvert_exporter": "python",
   "pygments_lexer": "ipython3",
   "version": "3.7.12"
  }
 },
 "nbformat": 4,
 "nbformat_minor": 5
}
